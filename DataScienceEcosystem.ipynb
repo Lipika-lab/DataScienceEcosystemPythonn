{
 "cells": [
  {
   "cell_type": "markdown",
   "id": "77ff2bb3-bc66-485d-8675-53122769d5d3",
   "metadata": {},
   "source": [
    "# Data Science Tools and Ecosystem #"
   ]
  },
  {
   "cell_type": "markdown",
   "id": "a406e2c9-ab49-48ed-a2f8-e1a249acb4b1",
   "metadata": {},
   "source": [
    "Data science Tools and Ecosystem are summarized"
   ]
  },
  {
   "cell_type": "code",
   "execution_count": 1,
   "id": "08777a8a-c93c-4e88-8e0e-e6dad45bbe3f",
   "metadata": {
    "tags": []
   },
   "outputs": [
    {
     "data": {
      "text/plain": [
       "17"
      ]
     },
     "execution_count": 1,
     "metadata": {},
     "output_type": "execute_result"
    }
   ],
   "source": [
    "# This a simple arithmetic expression to mutiply then add integers\n",
    "3*4+5"
   ]
  },
  {
   "cell_type": "code",
   "execution_count": 2,
   "id": "f9557356-685b-4473-bf58-716e51134d88",
   "metadata": {
    "tags": []
   },
   "outputs": [
    {
     "data": {
      "text/plain": [
       "3.3333333333333335"
      ]
     },
     "execution_count": 2,
     "metadata": {},
     "output_type": "execute_result"
    }
   ],
   "source": [
    "# This will  convert 200 minutes  to hours by dividing by 60\n",
    "200/60"
   ]
  },
  {
   "cell_type": "markdown",
   "id": "7399ae60-50c0-4152-9f1e-6dcb7302bed2",
   "metadata": {},
   "source": [
    "   **OBJECTIVES**\n",
    "   -List popular language for data science\n",
    "   -Introduce the basic data manipulation techniques\n",
    "   -Explore data visualization"
   ]
  },
  {
   "cell_type": "markdown",
   "id": "ea97b300-9021-47ae-b9e6-8a2957eab5b3",
   "metadata": {},
   "source": [
    "## Author\n",
    "## Author and Your Name ##"
   ]
  },
  {
   "cell_type": "code",
   "execution_count": null,
   "id": "00222889-926d-4d87-a21a-c74242ee5018",
   "metadata": {},
   "outputs": [],
   "source": []
  }
 ],
 "metadata": {
  "kernelspec": {
   "display_name": "Python",
   "language": "python",
   "name": "conda-env-python-py"
  },
  "language_info": {
   "codemirror_mode": {
    "name": "ipython",
    "version": 3
   },
   "file_extension": ".py",
   "mimetype": "text/x-python",
   "name": "python",
   "nbconvert_exporter": "python",
   "pygments_lexer": "ipython3",
   "version": "3.7.12"
  }
 },
 "nbformat": 4,
 "nbformat_minor": 5
}
